{
  "nbformat": 4,
  "nbformat_minor": 0,
  "metadata": {
    "colab": {
      "name": "FinalCensusData.ipynb",
      "provenance": [],
      "collapsed_sections": [],
      "include_colab_link": true
    },
    "kernelspec": {
      "name": "python3",
      "display_name": "Python 3"
    },
    "accelerator": "GPU"
  },
  "cells": [
    {
      "cell_type": "markdown",
      "metadata": {
        "id": "view-in-github",
        "colab_type": "text"
      },
      "source": [
        "<a href=\"https://colab.research.google.com/github/kaden-weber/Deep-Learning-Final-Project-Population-Projection/blob/estimate-population-only/FinalCensusData.ipynb\" target=\"_parent\"><img src=\"https://colab.research.google.com/assets/colab-badge.svg\" alt=\"Open In Colab\"/></a>"
      ]
    },
    {
      "cell_type": "code",
      "metadata": {
        "id": "3_HTEQJip-bg",
        "colab_type": "code",
        "colab": {}
      },
      "source": [
        "# lab 10 imports \n",
        "from torchvision.models import resnet152\n",
        "from torchvision import transforms, datasets\n",
        "from torch.utils.data import DataLoader, Dataset\n",
        "import torch\n",
        "from torch import optim, nn\n",
        "import zipfile\n",
        "from google.colab import files\n",
        "import os\n",
        "import sys\n",
        "from PIL import Image, ImageOps\n",
        "from tqdm import tqdm\n",
        "import numpy as np\n",
        "from matplotlib import pyplot as plt\n"
      ],
      "execution_count": 0,
      "outputs": []
    },
    {
      "cell_type": "code",
      "metadata": {
        "id": "VzhQScARfisO",
        "colab_type": "code",
        "colab": {}
      },
      "source": [
        "# style \n",
        "### Used to style Python print statements, \n",
        "    # from https://stackoverflow.com/users/1770999/boubakr via Patrick Stetz\n",
        "class color:\n",
        "    BOLD = '\\033[1m'\n",
        "    UNDERLINE = '\\033[4m'\n",
        "    END = '\\033[0m'"
      ],
      "execution_count": 0,
      "outputs": []
    },
    {
      "cell_type": "code",
      "metadata": {
        "id": "Lz_XtMJSDhB0",
        "colab_type": "code",
        "colab": {}
      },
      "source": [
        "# my imports\n",
        "import pandas as pd\n",
        "import torch.nn.functional as F\n",
        "import random\n"
      ],
      "execution_count": 0,
      "outputs": []
    },
    {
      "cell_type": "code",
      "metadata": {
        "id": "6_gT6IQwtORk",
        "colab_type": "code",
        "outputId": "466038d4-c63d-40cf-ec08-3271090111cc",
        "colab": {
          "resources": {
            "http://localhost:8080/nbextensions/google.colab/files.js": {
              "data": "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",
              "ok": true,
              "headers": [
                [
                  "content-type",
                  "application/javascript"
                ]
              ],
              "status": 200,
              "status_text": ""
            }
          },
          "base_uri": "https://localhost:8080/",
          "height": 88
        }
      },
      "source": [
        "# auth with kaggle\n",
        "# Run this cell and select the kaggle.json file downloaded\n",
        "# from the Kaggle account settings page.\n",
        "from google.colab import files\n",
        "files.upload()\n",
        "# Next, install the Kaggle API client.\n",
        "!pip install -q kaggle\n",
        "# Let's make sure the kaggle.json file is present.\n",
        "!ls -lha kaggle.json\n",
        "# The Kaggle API client expects this file to be in ~/.kaggle,\n",
        "# so move it there.\n",
        "!mkdir -p ~/.kaggle\n",
        "!mv kaggle.json ~/.kaggle/\n",
        "# This permissions change avoids a warning on Kaggle tool startup.\n",
        "!chmod 600 ~/.kaggle/kaggle.json"
      ],
      "execution_count": 4,
      "outputs": [
        {
          "output_type": "display_data",
          "data": {
            "text/html": [
              "\n",
              "     <input type=\"file\" id=\"files-1433149d-c2a6-4916-b974-8f0803e8ff14\" name=\"files[]\" multiple disabled />\n",
              "     <output id=\"result-1433149d-c2a6-4916-b974-8f0803e8ff14\">\n",
              "      Upload widget is only available when the cell has been executed in the\n",
              "      current browser session. Please rerun this cell to enable.\n",
              "      </output>\n",
              "      <script src=\"/nbextensions/google.colab/files.js\"></script> "
            ],
            "text/plain": [
              "<IPython.core.display.HTML object>"
            ]
          },
          "metadata": {
            "tags": []
          }
        },
        {
          "output_type": "stream",
          "text": [
            "Saving kaggle.json to kaggle.json\n",
            "-rw-r--r-- 1 root root 66 Dec 18 03:16 kaggle.json\n"
          ],
          "name": "stdout"
        }
      ]
    },
    {
      "cell_type": "code",
      "metadata": {
        "id": "oGaEUkHdrbU9",
        "colab_type": "code",
        "outputId": "67fdd697-3c4c-4d2b-cded-0d1164f31209",
        "colab": {
          "base_uri": "https://localhost:8080/",
          "height": 68
        }
      },
      "source": [
        "#download dataset\n",
        "!kaggle datasets download -d muonneutrino/us-census-demographic-data"
      ],
      "execution_count": 5,
      "outputs": [
        {
          "output_type": "stream",
          "text": [
            "Downloading us-census-demographic-data.zip to /content\n",
            " 47% 5.00M/10.6M [00:00<00:00, 30.5MB/s]\n",
            "100% 10.6M/10.6M [00:00<00:00, 52.0MB/s]\n"
          ],
          "name": "stdout"
        }
      ]
    },
    {
      "cell_type": "code",
      "metadata": {
        "id": "FrAEIg_Iroe5",
        "colab_type": "code",
        "outputId": "5e823e81-f8a2-46fd-87d9-26d696c756ce",
        "colab": {
          "base_uri": "https://localhost:8080/",
          "height": 51
        }
      },
      "source": [
        "# unzip and import with pandas\n",
        "\n",
        "def extract_zip(zip_file, extract_dir):\n",
        "  print(\"Extracting\", zip_file)\n",
        "  print(\"To\", extract_dir)\n",
        "  with zipfile.ZipFile(zip_file, 'r') as zip_ref:\n",
        "      zip_ref.extractall(extract_dir)\n",
        "\n",
        "def read(csv_path):\n",
        "  return pd.read_csv(csv_path, encoding='latin-1')\n",
        "\n",
        "def unzip_once():\n",
        "  zip_file='/content/us-census-demographic-data.zip'\n",
        "  extract_dir = os.path.splitext(zip_file)[0]\n",
        "  if not os.path.exists(extract_dir):\n",
        "    os.makedirs(extract_dir)\n",
        "  extract_zip(zip_file, extract_dir)\n",
        "\n",
        "unzip_once() \n",
        "county_2015 = read(\n",
        "    '../content/us-census-demographic-data/acs2015_county_data.csv')\n",
        "tract_2015 = read(\n",
        "    '../content/us-census-demographic-data/acs2015_census_tract_data.csv')\n",
        "county_2017 = read(\n",
        "    '../content/us-census-demographic-data/acs2017_county_data.csv')\n",
        "tract_2017 = read(\n",
        "    '../content/us-census-demographic-data/acs2017_census_tract_data.csv')\n",
        "data_2015 = (county_2015, tract_2015)\n",
        "data_2017 = (county_2017, tract_2017)\n",
        "data_all = (county_2015, tract_2015, county_2017, tract_2017)"
      ],
      "execution_count": 6,
      "outputs": [
        {
          "output_type": "stream",
          "text": [
            "Extracting /content/us-census-demographic-data.zip\n",
            "To /content/us-census-demographic-data\n"
          ],
          "name": "stdout"
        }
      ]
    },
    {
      "cell_type": "code",
      "metadata": {
        "id": "jikTLvYxF7lL",
        "colab_type": "code",
        "colab": {}
      },
      "source": [
        "tract_2015 = tract_2015.drop(tract_2015[tract_2015.TotalPop == 0].index)\n",
        "tract_2015 = tract_2015.drop(['State', 'County'], axis=1)\n",
        "\n",
        "tract_2017 = tract_2017.drop(tract_2017[tract_2017.TotalPop == 0].index)\n",
        "tract_2017 = tract_2017.drop(['State', 'County'], axis=1)\n",
        "\n",
        "tract_2015 = tract_2015.dropna()\n",
        "tract_2017 = tract_2017.dropna()"
      ],
      "execution_count": 0,
      "outputs": []
    },
    {
      "cell_type": "code",
      "metadata": {
        "id": "60VsYUhKrs5H",
        "colab_type": "code",
        "outputId": "3acb87f7-9e48-45da-d3b0-ce21643eeadf",
        "colab": {
          "base_uri": "https://localhost:8080/",
          "height": 153
        }
      },
      "source": [
        "#dataset\n",
        "\n",
        "class USCensusTractDataset(Dataset):\n",
        "  def __init__(self, start_tracts, end_tracts, upload=False):\n",
        "    super(USCensusTractDataset, self).__init__()\n",
        "    self.start_tracts = start_tracts\n",
        "    self.end_tracts = end_tracts\n",
        "\n",
        "    self.start_t = torch.from_numpy(start_tracts.values.astype(np.float32))\n",
        "    self.end_t = torch.from_numpy(end_tracts.values.astype(np.float32))\n",
        "    self.dataset = self.couple(self.start_t, self.end_t)\n",
        "\n",
        "    # do any data prep here\n",
        "\n",
        "  def couple(self, start_t, end_t):\n",
        "    coupledDataset = []\n",
        "    for i in range(len(start_t)):\n",
        "      row = start_t[i]\n",
        "      start = i - 20\n",
        "      if start < 0:\n",
        "        start = 0\n",
        "      stop = i + 20\n",
        "      if stop >= len(end_t):\n",
        "        stop = len(end_t - 1)\n",
        "      match = self.findRowByID(end_t, start, stop, row[0])\n",
        "      if match is not None:\n",
        "        coupledDataset.append((row, match[1]))\n",
        "    return coupledDataset\n",
        "\n",
        "  \n",
        "  def findRowByID(self, tensor, start, stop, id):\n",
        "    # id is first entry in row\n",
        "    for i in range(start, stop):\n",
        "      if tensor[i, 0] == id:\n",
        "        return tensor[i]\n",
        "    return None\n",
        "\n",
        "  def __getitem__(self, i):\n",
        "    return self.dataset[i]\n",
        "\n",
        "  def __len__(self):\n",
        "    return len(self.dataset)\n",
        "\n",
        "#example dataset that imports pandas dataframe\n",
        "class EventsDataset(Dataset):\n",
        "    def __init__(self, root_folder, data_set_name, numrows = None, mns_file_name = None ):\n",
        "        self.my_file_name = os.path.join( root_folder, data_set_name )\n",
        "        file_data = pd.read_csv(self.my_file_name, nrows = numrows )\n",
        "        self.tensor_data = torch.from_numpy( file_data.values.astype(np.float32)  )\n",
        "        del file_data\n",
        "\n",
        "    def __len__(self):\n",
        "        return len(self.tensor_data)\n",
        "\n",
        "    def __getitem__(self, idx):\n",
        "        truth_data = self.tensor_data[idx, 1:3]\n",
        "        recon_data = self.tensor_data[idx, 4:]\n",
        "        return recon_data, truth_data\n",
        "\n",
        "\n",
        "dataset = USCensusTractDataset(tract_2015, tract_2017)\n",
        "item = dataset.__getitem__(0)\n",
        "print(dataset.__len__())\n",
        "print(item[0])\n",
        "print(item[1])\n",
        "\n"
      ],
      "execution_count": 8,
      "outputs": [
        {
          "output_type": "stream",
          "text": [
            "72721\n",
            "tensor([1.0010e+09, 1.9480e+03, 9.4000e+02, 1.0080e+03, 9.0000e-01, 8.7400e+01,\n",
            "        7.7000e+00, 3.0000e-01, 6.0000e-01, 0.0000e+00, 1.5030e+03, 6.1838e+04,\n",
            "        1.1900e+04, 2.5713e+04, 4.5480e+03, 8.1000e+00, 8.4000e+00, 3.4700e+01,\n",
            "        1.7000e+01, 2.1300e+01, 1.1900e+01, 1.5200e+01, 9.0200e+01, 4.8000e+00,\n",
            "        0.0000e+00, 5.0000e-01, 2.3000e+00, 2.1000e+00, 2.5000e+01, 9.4300e+02,\n",
            "        7.7100e+01, 1.8300e+01, 4.6000e+00, 0.0000e+00, 5.4000e+00])\n",
            "tensor(1845.)\n"
          ],
          "name": "stdout"
        }
      ]
    },
    {
      "cell_type": "code",
      "metadata": {
        "id": "NXhnxTWJpiel",
        "colab_type": "code",
        "colab": {}
      },
      "source": [
        "# double check tract numbers \n",
        "# for i in range(dataset.__len__()):\n",
        "#   x, y_index, y_truth = dataset.__getitem__(i)\n",
        "#   if x[0] != y_index:\n",
        "#     raise Exception('you messed up the indices')\n",
        "  "
      ],
      "execution_count": 0,
      "outputs": []
    },
    {
      "cell_type": "code",
      "metadata": {
        "id": "5jM-OpWIrvjw",
        "colab_type": "code",
        "colab": {}
      },
      "source": [
        "#network(s)\n",
        "\n",
        "#mnist example (from similar csv)\n",
        "class Classifier(nn.Module):\n",
        "    def __init__(self):\n",
        "        super().__init__()\n",
        "        self.fc1 = nn.Linear(784, 512)\n",
        "        self.fc2 = nn.Linear(512, 256)\n",
        "        self.fc3 = nn.Linear(256, 128)\n",
        "        self.fc4 = nn.Linear(128, 10)\n",
        "        self.dropout = nn.Dropout(p=0.2)\n",
        "        \n",
        "    def forward(self, x):\n",
        "        x = x.view(x.shape[0], -1)\n",
        "        x = F.relu(self.fc1(x))\n",
        "        x = F.relu(self.fc2(x))\n",
        "        x = self.dropout(F.relu(self.fc3(x)))\n",
        "        x = F.log_softmax(self.fc4(x), dim=1)\n",
        "        return x\n",
        "\n",
        "class MyClassifier(nn.Module):\n",
        "    def __init__(self):\n",
        "        super().__init__()\n",
        "        self.fc1 = nn.Linear(35, 512)\n",
        "        self.fc2 = nn.Linear(512, 256)\n",
        "        self.fc3 = nn.Linear(256, 128)\n",
        "        self.fc4 = nn.Linear(128, 1)\n",
        "        self.dropout = nn.Dropout(p=0.2)\n",
        "        \n",
        "    def forward(self, x):\n",
        "        # x = x.view(x.shape[0], -1)\n",
        "        x = F.relu(self.fc1(x))\n",
        "        x = F.relu(self.fc2(x))\n",
        "        x = self.dropout(F.relu(self.fc3(x)))\n",
        "        x = self.fc4(x)\n",
        "        return x\n",
        "\n",
        "# class MyClassifier(nn.Module):\n",
        "#   def __init__(self):\n",
        "#     super().__init__()\n",
        "#     self.fc1 = nn.Linear(35, 16)\n",
        "#     self.fc2 = nn.Linear(16, 8)\n",
        "#     self.fc3 = nn.Linear(8, 4)\n",
        "#     self.fc4 = nn.Linear(4, 1)\n",
        "#     self.dropout = nn.Dropout(p=0.2)\n",
        "      \n",
        "#   def forward(self, x):\n",
        "#       # x = x.view(x.shape[0], -1)\n",
        "#       x = F.relu(self.fc1(x))\n",
        "#       x = F.relu(self.fc2(x))\n",
        "#       x = self.dropout(F.relu(self.fc3(x)))\n",
        "#       x = self.fc4(x)\n",
        "      \n",
        "#       return x"
      ],
      "execution_count": 0,
      "outputs": []
    },
    {
      "cell_type": "code",
      "metadata": {
        "id": "UB6I6Mp9hcig",
        "colab_type": "code",
        "colab": {}
      },
      "source": [
        "batch_size = 512\n",
        "\n",
        "# instantiate dataset\n",
        "train_dataset = USCensusTractDataset(tract_2015, tract_2017)\n",
        "\n",
        "train_loader = DataLoader(train_dataset, shuffle=True, batch_size=batch_size)\n"
      ],
      "execution_count": 0,
      "outputs": []
    },
    {
      "cell_type": "code",
      "metadata": {
        "id": "XMoO8oB5hMGl",
        "colab_type": "code",
        "colab": {}
      },
      "source": [
        "# training\n",
        "\n",
        "epochs = 100\n",
        "learning_rate = 0.1\n",
        "val_every = 3\n",
        "device = torch.device('cuda:0')\n",
        "\n",
        "# model\n",
        "model = MyClassifier().to(device)\n",
        "\n",
        "# objective = nn.CrossEntropyLoss()\n",
        "objective = nn.L1Loss()\n",
        "# objective = nn.NLLLoss()\n",
        "# objective = nn.MSELoss()\n",
        "\n",
        "optimizer = optim.Adam(model.parameters(), lr=learning_rate)\n",
        "\n",
        "train_losses = []\n",
        "val_losses = []\n",
        "val_accs = []"
      ],
      "execution_count": 0,
      "outputs": []
    },
    {
      "cell_type": "code",
      "metadata": {
        "id": "VMRwCEZ1rxXv",
        "colab_type": "code",
        "outputId": "89635a2a-810f-4e7a-da2b-fb7cc5524d52",
        "colab": {
          "base_uri": "https://localhost:8080/",
          "height": 34
        }
      },
      "source": [
        "# Training Loop\n",
        "pbar = tqdm(total=len(train_loader) * epochs)\n",
        "\n",
        "count = 0 \n",
        "for epoch in range(epochs):\n",
        "  for x, y_truth in train_loader:\n",
        "    x, y_truth = x.to(device), y_truth.to(device)\n",
        "\n",
        "    optimizer.zero_grad()\n",
        "\n",
        "    y_hat = model(x).squeeze(-1)\n",
        "    # print(x.size())\n",
        "    # print(y_hat.size())\n",
        "    # print(y_truth.size())\n",
        "    train_loss = objective(y_hat, y_truth)\n",
        "\n",
        "    train_loss.backward()\n",
        "    optimizer.step()\n",
        "\n",
        "    train_losses.append(train_loss.item())\n",
        "      \n",
        "    pbar.set_description('train loss:{0:16.4f}'.format(train_loss.item()))\n",
        "    pbar.update(1)\n",
        "\n",
        "    count += 1\n",
        "\n",
        "pbar.close()"
      ],
      "execution_count": 30,
      "outputs": [
        {
          "output_type": "stream",
          "text": [
            "train loss:       1489.6781: 100%|██████████| 14300/14300 [01:37<00:00, 136.30it/s]\n"
          ],
          "name": "stderr"
        }
      ]
    },
    {
      "cell_type": "code",
      "metadata": {
        "id": "zj-PK5XRr0yd",
        "colab_type": "code",
        "outputId": "3c8dcfe9-7708-4fca-9ceb-5876a762fe39",
        "colab": {
          "base_uri": "https://localhost:8080/",
          "height": 806
        }
      },
      "source": [
        "plt.subplot(122)\n",
        "plt.plot(np.arange(len(train_losses)), train_losses, label='Train Loss')\n",
        "plt.legend()\n",
        "plt.show()\n",
        "\n",
        "zoom = train_losses[2000:]\n",
        "plt.subplot(122)\n",
        "plt.plot(np.arange(len(zoom)), zoom, label='Train Loss')\n",
        "plt.legend()\n",
        "plt.show()\n",
        "\n",
        "zoom2 = train_losses[15000:]\n",
        "plt.subplot(122)\n",
        "plt.plot(np.arange(len(zoom2)), zoom2, label='Train Loss')\n",
        "plt.legend()\n",
        "plt.show()\n",
        "\n",
        "print(\"beginning loss\", np.mean(train_losses[200:400]))\n",
        "print(\"ending loss\", np.mean(train_losses[-200:]))"
      ],
      "execution_count": 31,
      "outputs": [
        {
          "output_type": "display_data",
          "data": {
            "image/png": "[encoded data removed]",
            "text/plain": [
              "<Figure size 432x288 with 1 Axes>"
            ]
          },
          "metadata": {
            "tags": []
          }
        },
        {
          "output_type": "display_data",
          "data": {
            "image/png": "[encoded data removed]",
            "text/plain": [
              "<Figure size 432x288 with 1 Axes>"
            ]
          },
          "metadata": {
            "tags": []
          }
        },
        {
          "output_type": "display_data",
          "data": {
            "image/png": "[encoded data removed]",
            "text/plain": [
              "<Figure size 432x288 with 1 Axes>"
            ]
          },
          "metadata": {
            "tags": []
          }
        },
        {
          "output_type": "stream",
          "text": [
            "beginning loss 1699.919620361328\n",
            "ending loss 1657.128916015625\n"
          ],
          "name": "stdout"
        }
      ]
    },
    {
      "cell_type": "code",
      "metadata": {
        "id": "ftElPS9DXLv7",
        "colab_type": "code",
        "outputId": "f8eef754-17db-4e59-ecef-1f95953d2680",
        "colab": {
          "base_uri": "https://localhost:8080/",
          "height": 544
        }
      },
      "source": [
        "# validate\n",
        "diffs = []\n",
        "\n",
        "for i in range(50):\n",
        "  tract_index = random.randint(0, train_dataset.__len__())\n",
        "  x, goal = train_dataset.__getitem__(tract_index)\n",
        "  output = model(x.to(device))\n",
        "\n",
        "  initial_pop = int(x[1])\n",
        "  final_pop = int(goal.item())\n",
        "  est_pop = int(output.item())\n",
        "\n",
        "  actual_population_change = final_pop - initial_pop\n",
        "  predicted_population_change = est_pop - initial_pop\n",
        "\n",
        "  diffs.append( abs( (actual_population_change - predicted_population_change) / actual_population_change * 100) )\n",
        "  if i % 10 == 0:\n",
        "    print('\\nTract:', int(x[0]))\n",
        "    print('beginning =', initial_pop)\n",
        "    print('end       =', final_pop)\n",
        "    print('actual population change     =', actual_population_change)\n",
        "    print('predicted population change  =', predicted_population_change)\n",
        "\n",
        "print('average % error =', np.mean(diffs))\n"
      ],
      "execution_count": 14,
      "outputs": [
        {
          "output_type": "stream",
          "text": [
            "\n",
            "Tract: 13089022976\n",
            "beginning = 4599\n",
            "end       = 6512\n",
            "actual population change     = 1913\n",
            "predicted population change  = -520\n",
            "\n",
            "Tract: 8123000832\n",
            "beginning = 4889\n",
            "end       = 2147\n",
            "actual population change     = -2742\n",
            "predicted population change  = -791\n",
            "\n",
            "Tract: 6111001600\n",
            "beginning = 5206\n",
            "end       = 4109\n",
            "actual population change     = -1097\n",
            "predicted population change  = -1100\n",
            "\n",
            "Tract: 6037621248\n",
            "beginning = 6595\n",
            "end       = 4533\n",
            "actual population change     = -2062\n",
            "predicted population change  = -2506\n",
            "\n",
            "Tract: 24015030272\n",
            "beginning = 5454\n",
            "end       = 4738\n",
            "actual population change     = -716\n",
            "predicted population change  = -1019\n",
            "average % error = 329.03805263660996\n"
          ],
          "name": "stdout"
        }
      ]
    },
    {
      "cell_type": "code",
      "metadata": {
        "id": "sijSo3hnDuNs",
        "colab_type": "code",
        "colab": {}
      },
      "source": [
        "# best loss so far =~ 1604"
      ],
      "execution_count": 0,
      "outputs": []
    }
  ]
}